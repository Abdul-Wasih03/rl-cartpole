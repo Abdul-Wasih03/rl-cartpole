{
 "cells": [
  {
   "cell_type": "code",
   "execution_count": null,
   "metadata": {
    "colab": {
     "base_uri": "https://localhost:8080/"
    },
    "id": "duqaxnjk9u4p",
    "outputId": "03845a7b-6d07-4d1b-a4c6-2e11819bcdaa"
   },
   "outputs": [],
   "source": [
    "!pip install gymnasium\n",
    "!pip install gymnasium[box2d]\n",
    "!pip install jupyterlab\n",
    "!pip install tqdm"
   ]
  },
  {
   "cell_type": "code",
   "execution_count": null,
   "metadata": {
    "id": "iy8yuPu4-7ca"
   },
   "outputs": [],
   "source": [
    "import gymnasium as gym\n",
    "import numpy as np\n",
    "from itertools import count\n",
    "from tqdm import tqdm\n",
    "import time\n",
    "import matplotlib.pyplot as plt"
   ]
  },
  {
   "cell_type": "code",
   "execution_count": null,
   "metadata": {
    "id": "mH52mj9Y_cmd"
   },
   "outputs": [],
   "source": [
    "g_bins = 10\n",
    "Q_track = 0\n",
    "Q = 0"
   ]
  },
  {
   "cell_type": "code",
   "execution_count": null,
   "metadata": {
    "id": "xw9NKMyW_giU"
   },
   "outputs": [],
   "source": [
    "def create_bins(n_bins=g_bins, n_dim=4):\n",
    "\n",
    "    bins = [\n",
    "        np.linspace(-4.8, 4.8, n_bins),\n",
    "        np.linspace(-4, 4, n_bins),\n",
    "        np.linspace(-0.418, 0.418, n_bins),\n",
    "        np.linspace(-4, 4, n_bins)\n",
    "    ]\n",
    "\n",
    "    return bins"
   ]
  },
  {
   "cell_type": "code",
   "execution_count": null,
   "metadata": {
    "id": "yNq1RtfS_i0r"
   },
   "outputs": [],
   "source": [
    "def discretize_state(observation, bins):\n",
    "\n",
    "    binned_state = []\n",
    "\n",
    "    for i in range(len(observation)):\n",
    "        d = np.digitize(observation[i], bins[i])\n",
    "        binned_state.append( d - 1)\n",
    "\n",
    "    return tuple(binned_state)"
   ]
  },
  {
   "cell_type": "code",
   "execution_count": null,
   "metadata": {
    "id": "UbpWs2De_lZ6"
   },
   "outputs": [],
   "source": [
    "def decay_schedule(\n",
    "    init_value, min_value, decay_ratio,\n",
    "    max_steps, log_start = -2, log_base=10):\n",
    "    decay_steps = int(max_steps*decay_ratio)\n",
    "    rem_steps = max_steps - decay_steps\n",
    "    values = np.logspace(\n",
    "      log_start, 0, decay_steps,\n",
    "      base = log_base, endpoint = True)[::-1]\n",
    "    values = (values -values.min())/(values.max() - values.min())\n",
    "    values = (init_value - min_value)*values +min_value\n",
    "    values = np.pad(values, (0, rem_steps), 'edge')\n",
    "\n",
    "    return values"
   ]
  },
  {
   "cell_type": "code",
   "execution_count": null,
   "metadata": {
    "id": "HrCyO9ua_n5Q"
   },
   "outputs": [],
   "source": [
    "def generate_trajectory(\n",
    "    select_action, Q, epsilon,\n",
    "    env, max_steps=200):\n",
    "    done, trajectory = False, []\n",
    "    bins = create_bins(g_bins)\n",
    "\n",
    "    observation,_ = env.reset()\n",
    "    state = discretize_state(observation, bins)\n",
    "\n",
    "    for t in count():\n",
    "        action = select_action(state, Q, epsilon)\n",
    "        observation, reward, done, _, _ = env.step(action)\n",
    "        next_state = discretize_state(observation, bins)\n",
    "        if not done:\n",
    "            if t >= max_steps-1:\n",
    "                break\n",
    "            experience = (state, action,\n",
    "                    reward, next_state, done)\n",
    "            trajectory.append(experience)\n",
    "        else:\n",
    "            experience = (state, action,\n",
    "                    -100, next_state, done)\n",
    "            trajectory.append(experience)\n",
    "            #time.sleep(2)\n",
    "            break\n",
    "        state = next_state\n",
    "\n",
    "    return np.array(trajectory, dtype=object)\n"
   ]
  },
  {
   "cell_type": "code",
   "execution_count": null,
   "metadata": {
    "id": "RXf4Fm1i_raW"
   },
   "outputs": [],
   "source": [
    "def mc_control (env,n_bins=g_bins, gamma = 1.0,\n",
    "                init_alpha = 0.5,min_alpha = 0.01, alpha_decay_ratio = 0.5,\n",
    "                init_epsilon = 1.0, min_epsilon = 0.1, epsilon_decay_ratio = 0.9,\n",
    "                n_episodes = 3000, max_steps = 200, first_visit = True, init_Q=None):\n",
    "\n",
    "    nA = env.action_space.n\n",
    "    discounts = np.logspace(0, max_steps,\n",
    "                            num = max_steps, base = gamma,\n",
    "                            endpoint = False)\n",
    "    alphas = decay_schedule(init_alpha, min_alpha,\n",
    "                            0.9999, n_episodes)\n",
    "    epsilons = decay_schedule(init_epsilon, min_epsilon,\n",
    "                            0.99, n_episodes)\n",
    "    pi_track = []\n",
    "    global Q_track\n",
    "    global Q\n",
    "\n",
    "\n",
    "    if init_Q is None:\n",
    "        Q = np.zeros([n_bins]*env.observation_space.shape[0] + [env.action_space.n],dtype =np.float64)\n",
    "    else:\n",
    "        Q = init_Q\n",
    "\n",
    "    n_elements = Q.size\n",
    "    n_nonzero_elements = 0\n",
    "\n",
    "    Q_track = np.zeros([n_episodes] + [n_bins]*env.observation_space.shape[0] + [env.action_space.n],dtype =np.float64)\n",
    "    select_action = lambda state, Q, epsilon: np.argmax(Q[tuple(state)]) if np.random.random() > epsilon else np.random.randint(len(Q[tuple(state)]))\n",
    "\n",
    "    progress_bar = tqdm(range(n_episodes), leave=False)\n",
    "    steps_balanced_total = 1\n",
    "    mean_steps_balanced = 0\n",
    "    for e in progress_bar:\n",
    "        trajectory = generate_trajectory(select_action, Q, epsilons[e],\n",
    "                                    env, max_steps)\n",
    "\n",
    "        steps_balanced_total = steps_balanced_total + len(trajectory)\n",
    "        mean_steps_balanced = 0\n",
    "\n",
    "        visited = np.zeros([n_bins]*env.observation_space.shape[0] + [env.action_space.n],dtype =np.float64)\n",
    "        for t, (state, action, reward, _, _) in enumerate(trajectory):\n",
    "            #if visited[tuple(state)][action] and first_visit:\n",
    "            #    continue\n",
    "            visited[tuple(state)][action] = True\n",
    "            n_steps = len(trajectory[t:])\n",
    "            G = np.sum(discounts[:n_steps]*trajectory[t:, 2])\n",
    "            Q[tuple(state)][action] = Q[tuple(state)][action]+alphas[e]*(G - Q[tuple(state)][action])\n",
    "        Q_track[e] = Q\n",
    "        n_nonzero_elements = np.count_nonzero(Q)\n",
    "        pi_track.append(np.argmax(Q, axis=env.observation_space.shape[0]))\n",
    "        if e != 0:\n",
    "            mean_steps_balanced = steps_balanced_total/e\n",
    "        #progress_bar.set_postfix(episode=e, Epsilon=epsilons[e], Steps=f\"{len(trajectory)}\" ,MeanStepsBalanced=f\"{mean_steps_balanced:.2f}\", NonZeroValues=\"{0}/{1}\".format(n_nonzero_elements,n_elements))\n",
    "        progress_bar.set_postfix(episode=e, Epsilon=epsilons[e], StepsBalanced=f\"{len(trajectory)}\" ,MeanStepsBalanced=f\"{mean_steps_balanced:.2f}\")\n",
    "\n",
    "    print(\"mean_steps_balanced={0},steps_balanced_total={1}\".format(mean_steps_balanced,steps_balanced_total))\n",
    "    V = np.max(Q, axis=env.observation_space.shape[0])\n",
    "    pi = lambda s:{s:a for s, a in enumerate(np.argmax(Q, axis=env.observation_space.shape[0]))}[s]\n",
    "\n",
    "    return Q, V, pi"
   ]
  },
  {
   "cell_type": "code",
   "execution_count": null,
   "metadata": {
    "id": "dWh_WzzMAcqc"
   },
   "outputs": [],
   "source": [
    "env = gym.make(\"CartPole-v1\", render_mode=\"human\")\n",
    "observation, info = env.reset(seed=42)\n"
   ]
  },
  {
   "cell_type": "code",
   "execution_count": null,
   "metadata": {
    "id": "XT6H-FSqAj8o"
   },
   "outputs": [],
   "source": [
    "#To save the action value function\n",
    "np.save(\"state_action_values.npy\", Q)"
   ]
  },
  {
   "cell_type": "code",
   "execution_count": null,
   "metadata": {
    "id": "XZuv72h0AoS-"
   },
   "outputs": [],
   "source": [
    "#To load the action value function\n",
    "Q = np.load(\"state_action_values.npy\")"
   ]
  },
  {
   "cell_type": "code",
   "execution_count": null,
   "metadata": {
    "id": "403w8GPvAqOI"
   },
   "outputs": [],
   "source": [
    "observation, info = env.reset(seed=42)"
   ]
  },
  {
   "cell_type": "code",
   "execution_count": null,
   "metadata": {
    "colab": {
     "base_uri": "https://localhost:8080/"
    },
    "id": "4xj37QurAscA",
    "outputId": "c618f5b1-18d2-453e-d145-73915e69f0f5"
   },
   "outputs": [],
   "source": [
    "observation, reward, done, _, _ = env.step(0)\n",
    "print(done)"
   ]
  },
  {
   "cell_type": "code",
   "execution_count": null,
   "metadata": {
    "colab": {
     "base_uri": "https://localhost:8080/"
    },
    "id": "9S0uT17DAu-e",
    "outputId": "a37e1b09-72d3-40a2-87a5-8e0fe0347ec7"
   },
   "outputs": [],
   "source": [
    "env.action_space.n"
   ]
  },
  {
   "cell_type": "code",
   "execution_count": null,
   "metadata": {
    "colab": {
     "base_uri": "https://localhost:8080/"
    },
    "id": "TXI-NUh1AyK-",
    "outputId": "1217c321-8434-440e-c8a1-3ce1a95b3b8a"
   },
   "outputs": [],
   "source": [
    "# To run the MC control without using the previous Q values\n",
    "optimal_Q, optimal_V, optimal_pi = mc_control (env,n_episodes=200)"
   ]
  },
  {
   "cell_type": "code",
   "execution_count": null,
   "metadata": {
    "colab": {
     "base_uri": "https://localhost:8080/"
    },
    "id": "c8FBPG_GA0dP",
    "outputId": "1a215df2-4794-4f7b-b673-7db0382e3ec8"
   },
   "outputs": [],
   "source": [
    "# To run the MC control using the previous Q values and default parameters\n",
    "optimal_Q, optimal_V, optimal_pi = mc_control (env,n_episodes=200,\n",
    "                                    init_alpha = 0.5,min_alpha = 0.01, alpha_decay_ratio = 0.5,\n",
    "                                    init_epsilon = 1.0, min_epsilon = 0.1, epsilon_decay_ratio = 0.9,\n",
    "                                    max_steps=500, init_Q=Q)"
   ]
  },
  {
   "cell_type": "code",
   "execution_count": null,
   "metadata": {
    "colab": {
     "background_save": true,
     "base_uri": "https://localhost:8080/"
    },
    "id": "K5m4xInw63lB",
    "outputId": "b9712174-a351-427e-c017-c9b949d7d0a7"
   },
   "outputs": [],
   "source": [
    "optimal_Q, optimal_V, optimal_pi = mc_control (env,n_episodes=500,\n",
    "                                    init_alpha = 0.01,min_alpha = 0.005, alpha_decay_ratio = 0.5,\n",
    "                                    init_epsilon = 0.1 , min_epsilon = 0.08, epsilon_decay_ratio = 0.9,\n",
    "                                    max_steps=500, init_Q=Q)"
   ]
  },
  {
   "cell_type": "code",
   "execution_count": null,
   "metadata": {
    "colab": {
     "base_uri": "https://localhost:8080/"
    },
    "id": "Y3brISdLDSjs",
    "outputId": "818f3756-c78c-4d23-c7bc-6724f795fbd8"
   },
   "outputs": [],
   "source": [
    "np.count_nonzero(Q)"
   ]
  },
  {
   "cell_type": "code",
   "execution_count": null,
   "metadata": {
    "colab": {
     "base_uri": "https://localhost:8080/"
    },
    "id": "JZ-S5oqzDifI",
    "outputId": "fd1d1111-a1fd-42ad-b0dc-b98870a2301f"
   },
   "outputs": [],
   "source": [
    "np.size(Q)"
   ]
  },
  {
   "cell_type": "code",
   "execution_count": null,
   "metadata": {
    "id": "hmFRJDj8DlQk"
   },
   "outputs": [],
   "source": [
    "ep1 = decay_schedule(1, 0.1, 0.99, 50)\n"
   ]
  },
  {
   "cell_type": "code",
   "execution_count": null,
   "metadata": {
    "id": "f7hRsigwDna7"
   },
   "outputs": [],
   "source": [
    "x = np.arange(0,50)\n"
   ]
  },
  {
   "cell_type": "code",
   "execution_count": null,
   "metadata": {
    "colab": {
     "base_uri": "https://localhost:8080/",
     "height": 466
    },
    "id": "8B7k8SIsDuOl",
    "outputId": "094037c3-3ad6-4e8c-f7ef-12d6bb357e2f"
   },
   "outputs": [],
   "source": [
    "print('Syed Abdul Wasih H 212221240057')\n",
    "plt.plot(x,ep1,label='ep1')\n"
   ]
  }
 ],
 "metadata": {
  "colab": {
   "provenance": []
  },
  "kernelspec": {
   "display_name": "Python 3 (ipykernel)",
   "language": "python",
   "name": "python3"
  },
  "language_info": {
   "codemirror_mode": {
    "name": "ipython",
    "version": 3
   },
   "file_extension": ".py",
   "mimetype": "text/x-python",
   "name": "python",
   "nbconvert_exporter": "python",
   "pygments_lexer": "ipython3",
   "version": "3.11.4"
  },
  "widgets": {
   "application/vnd.jupyter.widget-state+json": {
    "state": {},
    "version_major": 2,
    "version_minor": 0
   }
  }
 },
 "nbformat": 4,
 "nbformat_minor": 4
}
